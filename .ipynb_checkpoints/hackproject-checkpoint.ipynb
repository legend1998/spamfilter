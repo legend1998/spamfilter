{
 "cells": [
  {
   "cell_type": "code",
   "execution_count": 39,
   "metadata": {},
   "outputs": [],
   "source": [
    "#import all libraries required\n",
    "\"\"\" \n",
    "pandas - for dataframe,\n",
    "numpy - creating array and manipulation\n",
    "nltk.tokenize for tokenization \n",
    "math - for log10 \n",
    "string for punctuation \n",
    "matplotlib - for ploting graph\n",
    "sklearn = to calcalulate accuracy of prediction or classifier\n",
    "\"\"\"\n",
    "\n",
    "import pandas as pd\n",
    "from nltk.tokenize import word_tokenize\n",
    "import numpy as np\n",
    "import math\n",
    "import string\n",
    "import matplotlib.pyplot as plt\n",
    "from sklearn.metrics import confusion_matrix,accuracy_score,classification_report\n",
    "\n",
    "#if required this resource , just uncomment and run it\n",
    "#nltk.download('punkt')"
   ]
  },
  {
   "cell_type": "code",
   "execution_count": 40,
   "metadata": {},
   "outputs": [],
   "source": [
    "def train_test_split(name):\n",
    "    dataset = pd.read_csv(str(name))\n",
    "    \n",
    "    #split dataset according as 2018 year as training dataset\n",
    "    # nad 2019 year as testing dataset\n",
    "    \n",
    "    training_set=dataset.loc[dataset['year']==2018,['Title','year','Post Type']]\n",
    "    \n",
    "    testing_set=dataset.loc[dataset['year']==2019,['Title','year','Post Type']]\n",
    "    \n",
    "    return training_set,testing_set\n"
   ]
  },
  {
   "cell_type": "code",
   "execution_count": 41,
   "metadata": {},
   "outputs": [],
   "source": [
    "def lower_and_tokenize(x):\n",
    "        x=x.lower()\n",
    "        x=x.replace('show hn','show-hn')\n",
    "        x=x.replace('ask hn','ask-hn')\n",
    "        x=word_tokenize(x)\n",
    "        return x\n"
   ]
  },
  {
   "cell_type": "code",
   "execution_count": 42,
   "metadata": {},
   "outputs": [],
   "source": [
    "def make_vocab(train):\n",
    "    vcb=[]\n",
    "    fr=[]\n",
    "    for sen in train['Title']:\n",
    "        sen=lower_and_tokenize(sen)\n",
    "        for word in sen:\n",
    "            if word in string.punctuation:\n",
    "                continue\n",
    "            if (word not in vcb):\n",
    "                vcb.append(word)\n",
    "                fr.append(1)\n",
    "            else:\n",
    "                fr[vcb.index(word)]+=1\n",
    "                \n",
    "                \n",
    "    data=pd.DataFrame({'word':vcb,\n",
    "                         'frequency':fr,},index=vcb)\n",
    "    \n",
    "    posts=train['Post Type'].value_counts()\n",
    "    for post in posts.index:\n",
    "        vb=[]\n",
    "        fr=[]\n",
    "        post_vocab=train.loc[train['Post Type']==post,['Title']]\n",
    "        for sen in post_vocab['Title']:\n",
    "            sen=lower_and_tokenize(sen)\n",
    "            for word in sen:\n",
    "                if word in string.punctuation:\n",
    "                    continue\n",
    "                if (word not in vb):\n",
    "                    vb.append(word)\n",
    "                    fr.append(1)\n",
    "                else:\n",
    "                    fr[vb.index(word)]+=1\n",
    "        count=np.zeros(len(data),dtype=int)\n",
    "        for word in vcb:\n",
    "            if word in vb:\n",
    "                count[vcb.index(word)]+=fr[vb.index(word)]\n",
    "        data[post]=count\n",
    "    return data\n"
   ]
  },
  {
   "cell_type": "code",
   "execution_count": 43,
   "metadata": {},
   "outputs": [],
   "source": [
    "def drop_and_save(vocab):\n",
    "    drop=[]\n",
    "    for word in vocab.index:\n",
    "        if len(word)==1 or word.isdigit():\n",
    "            vocab=vocab.drop(word)\n",
    "            drop.append(word)\n",
    "            \n",
    "    file=open('remove-words.txt','w+',encoding='utf-8')\n",
    "    for word in drop:\n",
    "        file.write(word)\n",
    "        file.write('\\n')\n",
    "    file.close()\n",
    "    return vocab"
   ]
  },
  {
   "cell_type": "code",
   "execution_count": 44,
   "metadata": {},
   "outputs": [],
   "source": [
    "def write_vocab(vocab):\n",
    "    file=open('vocabulary.txt','w+',encoding=\"utf-8\")\n",
    "    vocab=vocab.sort_values('word')\n",
    "    for word in vocab.index:\n",
    "        file.write(word)\n",
    "        file.write(\"\\n\")\n",
    "    file.close()\n"
   ]
  },
  {
   "cell_type": "code",
   "execution_count": 45,
   "metadata": {},
   "outputs": [],
   "source": [
    "def calculate_smoothed_prob(data,post):\n",
    "    def sm_cnd_pro(wi,post,d=len(data)):\n",
    "        smooth=0.5\n",
    "        wi+=smooth\n",
    "        post+=smooth*d\n",
    "        return round((wi/post),6)\n",
    "    \n",
    "    for post_type in post.index:\n",
    "        sm_cond=[]\n",
    "        for word in data.index:\n",
    "            row=data.loc[word]\n",
    "            sm_cond.append(sm_cnd_pro(row[post_type],post[post_type]))\n",
    "        data[str('conditional_'+post_type)]=sm_cond\n",
    "    return data\n",
    "        "
   ]
  },
  {
   "cell_type": "code",
   "execution_count": 46,
   "metadata": {},
   "outputs": [],
   "source": [
    "def write_model(model,name,post):\n",
    "    file=open(name,'w+',encoding=\"utf-8\")\n",
    "    model=model.sort_values('word', ascending=True)\n",
    "    n=1\n",
    "    for word in model.index:\n",
    "        curr=model.loc[word]\n",
    "        \n",
    "        file.write(str(n)+\"  \")\n",
    "        file.write(str(word)+\"  \")\n",
    "        for post_type in post.index:\n",
    "            file.write(str(int(curr[post_type]))+\"  \")\n",
    "            file.write(str(curr[str('conditional_'+post_type)])+'  ')\n",
    "        file.write(\"\\n\")\n",
    "        n+=1\n",
    "    file.close()"
   ]
  },
  {
   "cell_type": "code",
   "execution_count": 47,
   "metadata": {},
   "outputs": [],
   "source": [
    "\n",
    "def get_class_prob(post):\n",
    "    d=dict.fromkeys(post_type for post_type in post.index)\n",
    "    for post_type in post.index:\n",
    "        d[post_type]=round(math.log10(post[post_type]/post.sum()),4)\n",
    "    return d\n"
   ]
  },
  {
   "cell_type": "code",
   "execution_count": 48,
   "metadata": {},
   "outputs": [],
   "source": [
    "def classifier(model,test,postdata):    \n",
    "    score=[]\n",
    "    predicted=[]\n",
    "    for post in test['Title']:\n",
    "        post =lower_and_tokenize(post)\n",
    "        post_prob=get_class_prob(postdata)\n",
    "        for word in post:\n",
    "            if word in string.punctuation:\n",
    "                continue\n",
    "            if word in model.index:\n",
    "                row=model[model.index==word]\n",
    "                for post_type in post_prob.keys():\n",
    "                    post_prob[post_type]+=round(math.log10(row[str('conditional_'+post_type)]),4)\n",
    "        score.append(post_prob)\n",
    "        predicted.append(max(post_prob,key=post_prob.get))\n",
    "        \n",
    "    \n",
    "    result =pd.DataFrame({\n",
    "            'Title':test['Title'],\n",
    "            'actual':test['Post Type'],\n",
    "            'predicted':predicted,\n",
    "            'score':score})\n",
    "    return result"
   ]
  },
  {
   "cell_type": "code",
   "execution_count": 49,
   "metadata": {},
   "outputs": [],
   "source": [
    "\n",
    "\"\"\" all operation goes on from here \"\"\"\n",
    "# give the name of csv file and it will return after spliting 2018 as training ans 2019 as testing set\n",
    "\n",
    "\n",
    "\n",
    "\n",
    "\n",
    "\n",
    "\n",
    "\n",
    "\n",
    "\n",
    "train,test=train,test=train_test_split('hns_2018_2019.csv')\n",
    "\n",
    "\n",
    "\n"
   ]
  },
  {
   "cell_type": "code",
   "execution_count": 50,
   "metadata": {},
   "outputs": [
    {
     "data": {
      "text/html": [
       "<div>\n",
       "<style scoped>\n",
       "    .dataframe tbody tr th:only-of-type {\n",
       "        vertical-align: middle;\n",
       "    }\n",
       "\n",
       "    .dataframe tbody tr th {\n",
       "        vertical-align: top;\n",
       "    }\n",
       "\n",
       "    .dataframe thead th {\n",
       "        text-align: right;\n",
       "    }\n",
       "</style>\n",
       "<table border=\"1\" class=\"dataframe\">\n",
       "  <thead>\n",
       "    <tr style=\"text-align: right;\">\n",
       "      <th></th>\n",
       "      <th>Title</th>\n",
       "      <th>year</th>\n",
       "      <th>Post Type</th>\n",
       "    </tr>\n",
       "  </thead>\n",
       "  <tbody>\n",
       "    <tr>\n",
       "      <td>0</td>\n",
       "      <td>Terminal: How the airport came to embody our n...</td>\n",
       "      <td>2018</td>\n",
       "      <td>story</td>\n",
       "    </tr>\n",
       "    <tr>\n",
       "      <td>1</td>\n",
       "      <td>Not only is it possible to beat Google, it cou...</td>\n",
       "      <td>2018</td>\n",
       "      <td>story</td>\n",
       "    </tr>\n",
       "    <tr>\n",
       "      <td>2</td>\n",
       "      <td>DC’s war on rats goes digital</td>\n",
       "      <td>2018</td>\n",
       "      <td>story</td>\n",
       "    </tr>\n",
       "    <tr>\n",
       "      <td>3</td>\n",
       "      <td>Show HN: Bitcoin Arbitrage – Kraken vs. GDAX</td>\n",
       "      <td>2018</td>\n",
       "      <td>show_hn</td>\n",
       "    </tr>\n",
       "    <tr>\n",
       "      <td>4</td>\n",
       "      <td>Handy function for Bash to display the compile...</td>\n",
       "      <td>2018</td>\n",
       "      <td>story</td>\n",
       "    </tr>\n",
       "  </tbody>\n",
       "</table>\n",
       "</div>"
      ],
      "text/plain": [
       "                                               Title  year Post Type\n",
       "0  Terminal: How the airport came to embody our n...  2018     story\n",
       "1  Not only is it possible to beat Google, it cou...  2018     story\n",
       "2                      DC’s war on rats goes digital  2018     story\n",
       "3       Show HN: Bitcoin Arbitrage – Kraken vs. GDAX  2018   show_hn\n",
       "4  Handy function for Bash to display the compile...  2018     story"
      ]
     },
     "execution_count": 50,
     "metadata": {},
     "output_type": "execute_result"
    }
   ],
   "source": [
    "train.head()"
   ]
  },
  {
   "cell_type": "code",
   "execution_count": 51,
   "metadata": {},
   "outputs": [
    {
     "name": "stdout",
     "output_type": "stream",
     "text": [
      "story      4572\n",
      "ask_hn      222\n",
      "show_hn     206\n",
      "Name: Post Type, dtype: int64\n"
     ]
    }
   ],
   "source": [
    "# we need how much post type is present and we will use it further\n",
    "post=train['Post Type'].value_counts()\n",
    "print(post)"
   ]
  },
  {
   "cell_type": "code",
   "execution_count": 52,
   "metadata": {},
   "outputs": [
    {
     "data": {
      "text/html": [
       "<div>\n",
       "<style scoped>\n",
       "    .dataframe tbody tr th:only-of-type {\n",
       "        vertical-align: middle;\n",
       "    }\n",
       "\n",
       "    .dataframe tbody tr th {\n",
       "        vertical-align: top;\n",
       "    }\n",
       "\n",
       "    .dataframe thead th {\n",
       "        text-align: right;\n",
       "    }\n",
       "</style>\n",
       "<table border=\"1\" class=\"dataframe\">\n",
       "  <thead>\n",
       "    <tr style=\"text-align: right;\">\n",
       "      <th></th>\n",
       "      <th>word</th>\n",
       "      <th>frequency</th>\n",
       "      <th>story</th>\n",
       "      <th>ask_hn</th>\n",
       "      <th>show_hn</th>\n",
       "    </tr>\n",
       "  </thead>\n",
       "  <tbody>\n",
       "    <tr>\n",
       "      <td>terminal</td>\n",
       "      <td>terminal</td>\n",
       "      <td>11</td>\n",
       "      <td>9</td>\n",
       "      <td>0</td>\n",
       "      <td>2</td>\n",
       "    </tr>\n",
       "    <tr>\n",
       "      <td>how</td>\n",
       "      <td>how</td>\n",
       "      <td>374</td>\n",
       "      <td>311</td>\n",
       "      <td>61</td>\n",
       "      <td>2</td>\n",
       "    </tr>\n",
       "    <tr>\n",
       "      <td>the</td>\n",
       "      <td>the</td>\n",
       "      <td>1218</td>\n",
       "      <td>1166</td>\n",
       "      <td>26</td>\n",
       "      <td>26</td>\n",
       "    </tr>\n",
       "    <tr>\n",
       "      <td>airport</td>\n",
       "      <td>airport</td>\n",
       "      <td>4</td>\n",
       "      <td>4</td>\n",
       "      <td>0</td>\n",
       "      <td>0</td>\n",
       "    </tr>\n",
       "    <tr>\n",
       "      <td>came</td>\n",
       "      <td>came</td>\n",
       "      <td>2</td>\n",
       "      <td>2</td>\n",
       "      <td>0</td>\n",
       "      <td>0</td>\n",
       "    </tr>\n",
       "  </tbody>\n",
       "</table>\n",
       "</div>"
      ],
      "text/plain": [
       "              word  frequency  story  ask_hn  show_hn\n",
       "terminal  terminal         11      9       0        2\n",
       "how            how        374    311      61        2\n",
       "the            the       1218   1166      26       26\n",
       "airport    airport          4      4       0        0\n",
       "came          came          2      2       0        0"
      ]
     },
     "execution_count": 52,
     "metadata": {},
     "output_type": "execute_result"
    }
   ],
   "source": [
    "# now we make vocabulary with all word and its frequency in all post types\n",
    "# wait it will take some time for execution\n",
    "vocabulary=make_vocab(train)\n",
    "vocabulary.head()"
   ]
  },
  {
   "cell_type": "code",
   "execution_count": 53,
   "metadata": {},
   "outputs": [],
   "source": [
    "# now we drop some unwanted words like which is not alpha or length 1\n",
    "vocabulary=drop_and_save(vocabulary)"
   ]
  },
  {
   "cell_type": "code",
   "execution_count": 54,
   "metadata": {},
   "outputs": [
    {
     "data": {
      "text/plain": [
       "10287"
      ]
     },
     "execution_count": 54,
     "metadata": {},
     "output_type": "execute_result"
    }
   ],
   "source": [
    "len(vocabulary)"
   ]
  },
  {
   "cell_type": "code",
   "execution_count": 55,
   "metadata": {},
   "outputs": [],
   "source": [
    "#write remained vocabulary as text file\n",
    "write_vocab(vocabulary)"
   ]
  },
  {
   "cell_type": "code",
   "execution_count": 56,
   "metadata": {},
   "outputs": [],
   "source": [
    "#now calculate smoothed conditional probability of each word after that we have model\n",
    "model=calculate_smoothed_prob(vocabulary,post)"
   ]
  },
  {
   "cell_type": "code",
   "execution_count": 57,
   "metadata": {
    "scrolled": true
   },
   "outputs": [
    {
     "data": {
      "text/html": [
       "<div>\n",
       "<style scoped>\n",
       "    .dataframe tbody tr th:only-of-type {\n",
       "        vertical-align: middle;\n",
       "    }\n",
       "\n",
       "    .dataframe tbody tr th {\n",
       "        vertical-align: top;\n",
       "    }\n",
       "\n",
       "    .dataframe thead th {\n",
       "        text-align: right;\n",
       "    }\n",
       "</style>\n",
       "<table border=\"1\" class=\"dataframe\">\n",
       "  <thead>\n",
       "    <tr style=\"text-align: right;\">\n",
       "      <th></th>\n",
       "      <th>word</th>\n",
       "      <th>frequency</th>\n",
       "      <th>story</th>\n",
       "      <th>ask_hn</th>\n",
       "      <th>show_hn</th>\n",
       "      <th>conditional_story</th>\n",
       "      <th>conditional_ask_hn</th>\n",
       "      <th>conditional_show_hn</th>\n",
       "    </tr>\n",
       "  </thead>\n",
       "  <tbody>\n",
       "    <tr>\n",
       "      <td>terminal</td>\n",
       "      <td>terminal</td>\n",
       "      <td>11</td>\n",
       "      <td>9</td>\n",
       "      <td>0</td>\n",
       "      <td>2</td>\n",
       "      <td>0.000978</td>\n",
       "      <td>0.000093</td>\n",
       "      <td>0.000467</td>\n",
       "    </tr>\n",
       "    <tr>\n",
       "      <td>how</td>\n",
       "      <td>how</td>\n",
       "      <td>374</td>\n",
       "      <td>311</td>\n",
       "      <td>61</td>\n",
       "      <td>2</td>\n",
       "      <td>0.032062</td>\n",
       "      <td>0.011462</td>\n",
       "      <td>0.000467</td>\n",
       "    </tr>\n",
       "    <tr>\n",
       "      <td>the</td>\n",
       "      <td>the</td>\n",
       "      <td>1218</td>\n",
       "      <td>1166</td>\n",
       "      <td>26</td>\n",
       "      <td>26</td>\n",
       "      <td>0.120066</td>\n",
       "      <td>0.004939</td>\n",
       "      <td>0.004954</td>\n",
       "    </tr>\n",
       "    <tr>\n",
       "      <td>airport</td>\n",
       "      <td>airport</td>\n",
       "      <td>4</td>\n",
       "      <td>4</td>\n",
       "      <td>0</td>\n",
       "      <td>0</td>\n",
       "      <td>0.000463</td>\n",
       "      <td>0.000093</td>\n",
       "      <td>0.000093</td>\n",
       "    </tr>\n",
       "    <tr>\n",
       "      <td>came</td>\n",
       "      <td>came</td>\n",
       "      <td>2</td>\n",
       "      <td>2</td>\n",
       "      <td>0</td>\n",
       "      <td>0</td>\n",
       "      <td>0.000257</td>\n",
       "      <td>0.000093</td>\n",
       "      <td>0.000093</td>\n",
       "    </tr>\n",
       "  </tbody>\n",
       "</table>\n",
       "</div>"
      ],
      "text/plain": [
       "              word  frequency  story  ask_hn  show_hn  conditional_story  \\\n",
       "terminal  terminal         11      9       0        2           0.000978   \n",
       "how            how        374    311      61        2           0.032062   \n",
       "the            the       1218   1166      26       26           0.120066   \n",
       "airport    airport          4      4       0        0           0.000463   \n",
       "came          came          2      2       0        0           0.000257   \n",
       "\n",
       "          conditional_ask_hn  conditional_show_hn  \n",
       "terminal            0.000093             0.000467  \n",
       "how                 0.011462             0.000467  \n",
       "the                 0.004939             0.004954  \n",
       "airport             0.000093             0.000093  \n",
       "came                0.000093             0.000093  "
      ]
     },
     "execution_count": 57,
     "metadata": {},
     "output_type": "execute_result"
    }
   ],
   "source": [
    "model.head()"
   ]
  },
  {
   "cell_type": "code",
   "execution_count": 58,
   "metadata": {},
   "outputs": [],
   "source": [
    "#write model to text file\n",
    "write_model(model,'model-2018.txt',post)"
   ]
  },
  {
   "cell_type": "code",
   "execution_count": 59,
   "metadata": {},
   "outputs": [],
   "source": [
    "# now we test our model with test dataset our classifier return result has predicted and actual value with all post\n",
    "result = classifier(model,test,post)"
   ]
  },
  {
   "cell_type": "code",
   "execution_count": 60,
   "metadata": {},
   "outputs": [
    {
     "name": "stdout",
     "output_type": "stream",
     "text": [
      "              precision    recall  f1-score   support\n",
      "\n",
      "      ask_hn       1.00      0.08      0.15       205\n",
      "     show_hn       1.00      0.11      0.20       151\n",
      "       story       0.94      1.00      0.97      4644\n",
      "\n",
      "    accuracy                           0.94      5000\n",
      "   macro avg       0.98      0.40      0.44      5000\n",
      "weighted avg       0.94      0.94      0.91      5000\n",
      "\n",
      "0.9356\n"
     ]
    }
   ],
   "source": [
    "# check the result by accuracy and confuasion matrix and classification repsot\n",
    "\n",
    "print(classification_report(result['actual'],result['predicted']))\n",
    "print(accuracy_score(result['actual'],result['predicted']))\n"
   ]
  },
  {
   "cell_type": "code",
   "execution_count": 61,
   "metadata": {},
   "outputs": [],
   "source": [
    "\n",
    "#  write_result is function which will write result ot text file\n",
    "\n",
    "def write_result(result,name,post):\n",
    "    file=open(name,'w+',encoding='utf8')\n",
    "    n=1\n",
    "    for row in result.index:\n",
    "        doc=result.loc[row]\n",
    "        file.write(str(n)+\"  \")\n",
    "        file.write(str(doc['Title'][0:15] )+ \"..  \")\n",
    "        file.write(str(doc['predicted'])+\"  \")\n",
    "        for post_type in post.index:\n",
    "            file.write(str(doc['score'][post_type])+' ')\n",
    "        file.write(str(doc['actual'])+\"  \")\n",
    "        file.write(str('right' if doc['predicted']==doc['actual'] else 'wrong')+\"\\n\")\n",
    "        n+=1\n",
    "    file.close()\n",
    "write_result(result,'baseline-result.txt',post)\n"
   ]
  },
  {
   "cell_type": "code",
   "execution_count": 62,
   "metadata": {},
   "outputs": [],
   "source": [
    "\n",
    "#task 3.1\n",
    "# store all words in stopwords.txt and then drop all stopwords from vocabualry or model\n",
    "\n",
    "file=open('stopwords.txt','r+',encoding='utf-8')\n",
    "stopwords=[word.replace('\\n','') for word in file if word.replace('\\n','') in vocabulary.index]\n",
    "file.close()\n",
    "stop_words_vcb=vocabulary.drop(stopwords)"
   ]
  },
  {
   "cell_type": "code",
   "execution_count": 63,
   "metadata": {},
   "outputs": [
    {
     "data": {
      "text/plain": [
       "10159"
      ]
     },
     "execution_count": 63,
     "metadata": {},
     "output_type": "execute_result"
    }
   ],
   "source": [
    "len(stop_words_vcb)"
   ]
  },
  {
   "cell_type": "code",
   "execution_count": 64,
   "metadata": {},
   "outputs": [
    {
     "data": {
      "text/html": [
       "<div>\n",
       "<style scoped>\n",
       "    .dataframe tbody tr th:only-of-type {\n",
       "        vertical-align: middle;\n",
       "    }\n",
       "\n",
       "    .dataframe tbody tr th {\n",
       "        vertical-align: top;\n",
       "    }\n",
       "\n",
       "    .dataframe thead th {\n",
       "        text-align: right;\n",
       "    }\n",
       "</style>\n",
       "<table border=\"1\" class=\"dataframe\">\n",
       "  <thead>\n",
       "    <tr style=\"text-align: right;\">\n",
       "      <th></th>\n",
       "      <th>word</th>\n",
       "      <th>frequency</th>\n",
       "      <th>story</th>\n",
       "      <th>ask_hn</th>\n",
       "      <th>show_hn</th>\n",
       "      <th>conditional_story</th>\n",
       "      <th>conditional_ask_hn</th>\n",
       "      <th>conditional_show_hn</th>\n",
       "    </tr>\n",
       "  </thead>\n",
       "  <tbody>\n",
       "    <tr>\n",
       "      <td>terminal</td>\n",
       "      <td>terminal</td>\n",
       "      <td>11</td>\n",
       "      <td>9</td>\n",
       "      <td>0</td>\n",
       "      <td>2</td>\n",
       "      <td>0.000978</td>\n",
       "      <td>0.000093</td>\n",
       "      <td>0.000467</td>\n",
       "    </tr>\n",
       "    <tr>\n",
       "      <td>airport</td>\n",
       "      <td>airport</td>\n",
       "      <td>4</td>\n",
       "      <td>4</td>\n",
       "      <td>0</td>\n",
       "      <td>0</td>\n",
       "      <td>0.000463</td>\n",
       "      <td>0.000093</td>\n",
       "      <td>0.000093</td>\n",
       "    </tr>\n",
       "    <tr>\n",
       "      <td>came</td>\n",
       "      <td>came</td>\n",
       "      <td>2</td>\n",
       "      <td>2</td>\n",
       "      <td>0</td>\n",
       "      <td>0</td>\n",
       "      <td>0.000257</td>\n",
       "      <td>0.000093</td>\n",
       "      <td>0.000093</td>\n",
       "    </tr>\n",
       "    <tr>\n",
       "      <td>embody</td>\n",
       "      <td>embody</td>\n",
       "      <td>1</td>\n",
       "      <td>1</td>\n",
       "      <td>0</td>\n",
       "      <td>0</td>\n",
       "      <td>0.000154</td>\n",
       "      <td>0.000093</td>\n",
       "      <td>0.000093</td>\n",
       "    </tr>\n",
       "    <tr>\n",
       "      <td>national</td>\n",
       "      <td>national</td>\n",
       "      <td>5</td>\n",
       "      <td>5</td>\n",
       "      <td>0</td>\n",
       "      <td>0</td>\n",
       "      <td>0.000566</td>\n",
       "      <td>0.000093</td>\n",
       "      <td>0.000093</td>\n",
       "    </tr>\n",
       "  </tbody>\n",
       "</table>\n",
       "</div>"
      ],
      "text/plain": [
       "              word  frequency  story  ask_hn  show_hn  conditional_story  \\\n",
       "terminal  terminal         11      9       0        2           0.000978   \n",
       "airport    airport          4      4       0        0           0.000463   \n",
       "came          came          2      2       0        0           0.000257   \n",
       "embody      embody          1      1       0        0           0.000154   \n",
       "national  national          5      5       0        0           0.000566   \n",
       "\n",
       "          conditional_ask_hn  conditional_show_hn  \n",
       "terminal            0.000093             0.000467  \n",
       "airport             0.000093             0.000093  \n",
       "came                0.000093             0.000093  \n",
       "embody              0.000093             0.000093  \n",
       "national            0.000093             0.000093  "
      ]
     },
     "execution_count": 64,
     "metadata": {},
     "output_type": "execute_result"
    }
   ],
   "source": [
    "stop_words_vcb.head()"
   ]
  },
  {
   "cell_type": "code",
   "execution_count": 65,
   "metadata": {},
   "outputs": [],
   "source": [
    "# run the classifier \n",
    "result=classifier(stop_words_vcb,test,post)\n"
   ]
  },
  {
   "cell_type": "code",
   "execution_count": 66,
   "metadata": {},
   "outputs": [
    {
     "name": "stdout",
     "output_type": "stream",
     "text": [
      "[[  70    0  135]\n",
      " [   0   49  102]\n",
      " [   0    0 4644]]\n",
      "0.9526\n",
      "              precision    recall  f1-score   support\n",
      "\n",
      "      ask_hn       1.00      0.34      0.51       205\n",
      "     show_hn       1.00      0.32      0.49       151\n",
      "       story       0.95      1.00      0.98      4644\n",
      "\n",
      "    accuracy                           0.95      5000\n",
      "   macro avg       0.98      0.56      0.66      5000\n",
      "weighted avg       0.95      0.95      0.94      5000\n",
      "\n"
     ]
    }
   ],
   "source": [
    "# calculate the accuracy\n",
    "print(confusion_matrix(result['actual'],result['predicted']))\n",
    "print(accuracy_score(result['actual'],result['predicted']))\n",
    "print(classification_report(result['actual'],result['predicted']))\n"
   ]
  },
  {
   "cell_type": "code",
   "execution_count": 67,
   "metadata": {},
   "outputs": [],
   "source": [
    "# after succesfull write vocabulary into textfile named stopw_words.txt and \n",
    "# result to stop_words_result.txt\n",
    "\n",
    "write_model(stop_words_vcb,' stopword-model.txt',post)\n",
    "write_result(result,'stopword-result.txt',post)\n"
   ]
  },
  {
   "cell_type": "code",
   "execution_count": 68,
   "metadata": {},
   "outputs": [],
   "source": [
    "#task 3.2\n",
    "\n",
    "#drop all the words as task 3.2 told\n",
    "dropped=[word for word in vocabulary.index if len(word)<=2 or len(word)>=9]\n",
    "vocabulary2=vocabulary.drop(dropped)\n",
    "\n"
   ]
  },
  {
   "cell_type": "code",
   "execution_count": 69,
   "metadata": {},
   "outputs": [
    {
     "data": {
      "text/plain": [
       "7101"
      ]
     },
     "execution_count": 69,
     "metadata": {},
     "output_type": "execute_result"
    }
   ],
   "source": [
    "len(vocabulary2)"
   ]
  },
  {
   "cell_type": "code",
   "execution_count": 70,
   "metadata": {},
   "outputs": [],
   "source": [
    "# run the classifier and write to wordlength_model.text\n",
    "# and wordlength_results.txt\n",
    "result=classifier(vocabulary2,test,post)\n"
   ]
  },
  {
   "cell_type": "code",
   "execution_count": 71,
   "metadata": {},
   "outputs": [],
   "source": [
    "write_model(stop_words_vcb,' wordlength-model.txt',post)\n",
    "write_result(result,'wordlength-result.txt',post)"
   ]
  },
  {
   "cell_type": "code",
   "execution_count": 72,
   "metadata": {},
   "outputs": [
    {
     "name": "stdout",
     "output_type": "stream",
     "text": [
      "[[  40    0  165]\n",
      " [   0   37  114]\n",
      " [   0    0 4644]]\n",
      "0.9442\n",
      "              precision    recall  f1-score   support\n",
      "\n",
      "      ask_hn       1.00      0.20      0.33       205\n",
      "     show_hn       1.00      0.25      0.39       151\n",
      "       story       0.94      1.00      0.97      4644\n",
      "\n",
      "    accuracy                           0.94      5000\n",
      "   macro avg       0.98      0.48      0.56      5000\n",
      "weighted avg       0.95      0.94      0.93      5000\n",
      "\n"
     ]
    }
   ],
   "source": [
    "# chech the result\n",
    "print(confusion_matrix(result['actual'],result['predicted']))\n",
    "print(accuracy_score(result['actual'],result['predicted']))\n",
    "print(classification_report(result['actual'],result['predicted']))\n"
   ]
  },
  {
   "cell_type": "code",
   "execution_count": 82,
   "metadata": {},
   "outputs": [],
   "source": [
    "#task 1.3\n",
    "\n",
    "#gradually drop words which have frequency less than 5, 10, 15 and 20 and calculate word left with performance\n",
    "\n",
    "words_left=[]\n",
    "performance=[]\n",
    "ran=[5,10,15,20]\n",
    "for r in ran:\n",
    "    dropped=[word for word in model.index if model.loc[word]['frequency']<=r]\n",
    "    vocabulary2=model.drop(dropped)\n",
    "    result=classifier(vocabulary2,test,post)\n",
    "    words_left.append(len(vocabulary2))\n",
    "    performance.append(accuracy_score(result['actual'],result['predicted']))"
   ]
  },
  {
   "cell_type": "code",
   "execution_count": 83,
   "metadata": {},
   "outputs": [
    {
     "data": {
      "text/plain": [
       "210"
      ]
     },
     "execution_count": 83,
     "metadata": {},
     "output_type": "execute_result"
    }
   ],
   "source": [
    "len(vocabulary2)"
   ]
  },
  {
   "cell_type": "code",
   "execution_count": 84,
   "metadata": {},
   "outputs": [],
   "source": [
    "\n",
    "#gradually drop the top 5%. 10% , 15% , 20% and 25% frequncy word and calculate\n",
    "# and calcualte words_left vs performance \n",
    "    \n",
    "\n",
    "ran=[5,10,15,20,25]\n",
    "for r in ran:\n",
    "    vocabulary2=vocabulary2.sort_values('frequency', ascending=False)\n",
    "    dropped=[word for word in vocabulary2.head(r).index]\n",
    "    vocabulary3=vocabulary2.drop(dropped)\n",
    "    result=classifier(vocabulary3,test,post)\n",
    "    words_left.append(len(vocabulary3))\n",
    "    performance.append(accuracy_score(result['actual'],result['predicted']))"
   ]
  },
  {
   "cell_type": "code",
   "execution_count": 85,
   "metadata": {},
   "outputs": [
    {
     "name": "stdout",
     "output_type": "stream",
     "text": [
      "[0.9374, 0.94, 0.9432, 0.9454, 0.9584, 0.9706, 0.9288, 0.9288, 0.9288] \n",
      " [1051, 499, 315, 210, 205, 200, 195, 190, 185]\n"
     ]
    }
   ],
   "source": [
    "print(performance,'\\n',words_left)"
   ]
  },
  {
   "cell_type": "code",
   "execution_count": 97,
   "metadata": {},
   "outputs": [
    {
     "data": {
      "image/png": "[encoded data removed]",
      "text/plain": [
       "<Figure size 432x288 with 1 Axes>"
      ]
     },
     "metadata": {
      "needs_background": "light"
     },
     "output_type": "display_data"
    },
    {
     "name": "stdout",
     "output_type": "stream",
     "text": [
      "[0.9374, 0.94, 0.9432, 0.9454, 0.9584, 0.9706, 0.9288, 0.9288, 0.9288]\n"
     ]
    }
   ],
   "source": [
    "#plot the graph word_left vs performance\n",
    "xlabel=[str(word) for word in words_left]\n",
    "plt.bar(xlabel,performance)\n",
    "plt.grid(which='both')\n",
    "plt.yticks(np.arange(0,1.1,0.05))\n",
    "plt.xlabel(\"words left\")\n",
    "plt.ylabel(\"performance\")\n",
    "plt.title(\"words left vs performance\")\n",
    "plt.show()"
   ]
  },
  {
   "cell_type": "code",
   "execution_count": null,
   "metadata": {},
   "outputs": [],
   "source": []
  }
 ],
 "metadata": {
  "kernelspec": {
   "display_name": "Python 3",
   "language": "python",
   "name": "python3"
  },
  "language_info": {
   "codemirror_mode": {
    "name": "ipython",
    "version": 3
   },
   "file_extension": ".py",
   "mimetype": "text/x-python",
   "name": "python",
   "nbconvert_exporter": "python",
   "pygments_lexer": "ipython3",
   "version": "3.7.4"
  }
 },
 "nbformat": 4,
 "nbformat_minor": 2
}
